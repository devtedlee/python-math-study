{
 "cells": [
  {
   "cell_type": "code",
   "execution_count": 2,
   "metadata": {},
   "outputs": [
    {
     "data": {
      "text/plain": [
       "1000"
      ]
     },
     "execution_count": 2,
     "metadata": {},
     "output_type": "execute_result"
    }
   ],
   "source": [
    "10**3"
   ]
  },
  {
   "cell_type": "code",
   "execution_count": 3,
   "metadata": {},
   "outputs": [
    {
     "data": {
      "text/plain": [
       "1024"
      ]
     },
     "execution_count": 3,
     "metadata": {},
     "output_type": "execute_result"
    }
   ],
   "source": [
    "2**10"
   ]
  },
  {
   "cell_type": "code",
   "execution_count": 4,
   "metadata": {},
   "outputs": [
    {
     "data": {
      "text/plain": [
       "'0b10110'"
      ]
     },
     "execution_count": 4,
     "metadata": {},
     "output_type": "execute_result"
    }
   ],
   "source": [
    "bin(22)"
   ]
  },
  {
   "cell_type": "code",
   "execution_count": 5,
   "metadata": {},
   "outputs": [
    {
     "data": {
      "text/plain": [
       "'0x16'"
      ]
     },
     "execution_count": 5,
     "metadata": {},
     "output_type": "execute_result"
    }
   ],
   "source": [
    "hex(22)"
   ]
  },
  {
   "cell_type": "code",
   "execution_count": 6,
   "metadata": {},
   "outputs": [
    {
     "data": {
      "text/plain": [
       "'0x16'"
      ]
     },
     "execution_count": 6,
     "metadata": {},
     "output_type": "execute_result"
    }
   ],
   "source": [
    "hex(0b10110)"
   ]
  },
  {
   "cell_type": "code",
   "execution_count": 7,
   "metadata": {},
   "outputs": [
    {
     "data": {
      "text/plain": [
       "[1, 0, 1, 1, 0]"
      ]
     },
     "execution_count": 7,
     "metadata": {},
     "output_type": "execute_result"
    }
   ],
   "source": [
    "def dec2bin(target):\n",
    "    remainder = []\n",
    "    \n",
    "    while target != 0:\n",
    "        remainder.append(target % 2)\n",
    "        target = target // 2\n",
    "    \n",
    "    remainder.reverse()\n",
    "    return remainder\n",
    "\n",
    "dec2bin(22)"
   ]
  },
  {
   "cell_type": "code",
   "execution_count": 8,
   "metadata": {},
   "outputs": [
    {
     "data": {
      "text/plain": [
       "[1, 0, 0, 0, 0, 1]"
      ]
     },
     "execution_count": 8,
     "metadata": {},
     "output_type": "execute_result"
    }
   ],
   "source": [
    "dec2bin(33)"
   ]
  },
  {
   "cell_type": "code",
   "execution_count": 9,
   "metadata": {},
   "outputs": [
    {
     "name": "stdout",
     "output_type": "stream",
     "text": [
      "[1, 6]\n",
      "[1, 'F']\n"
     ]
    }
   ],
   "source": [
    "def dec2hex(target):\n",
    "    remainder = []\n",
    "    \n",
    "    while target != 0:\n",
    "        remainder.append(target % 16)\n",
    "        target = target // 16\n",
    "        \n",
    "    for i in range(len(remainder)):\n",
    "        if remainder[i] == 10: remainder[i] = 'A'\n",
    "        elif remainder[i] == 11: remainder[i] = 'B'\n",
    "        elif remainder[i] == 12: remainder[i] = 'C'\n",
    "        elif remainder[i] == 13: remainder[i] = 'D'\n",
    "        elif remainder[i] == 14: remainder[i] = 'E'\n",
    "        elif remainder[i] == 15: remainder[i] = 'F'\n",
    "            \n",
    "    remainder.reverse()\n",
    "    return remainder\n",
    "\n",
    "print(dec2hex(22))\n",
    "print(dec2hex(31))"
   ]
  },
  {
   "cell_type": "code",
   "execution_count": 10,
   "metadata": {},
   "outputs": [
    {
     "data": {
      "text/plain": [
       "31"
      ]
     },
     "execution_count": 10,
     "metadata": {},
     "output_type": "execute_result"
    }
   ],
   "source": [
    "int('0x1F', 16)"
   ]
  },
  {
   "cell_type": "code",
   "execution_count": 11,
   "metadata": {},
   "outputs": [
    {
     "data": {
      "text/plain": [
       "31"
      ]
     },
     "execution_count": 11,
     "metadata": {},
     "output_type": "execute_result"
    }
   ],
   "source": [
    "def any2dec(target, base):\n",
    "    digit = len(target) - 1\n",
    "    sum = 0\n",
    "    \n",
    "    for i in range(len(target)):\n",
    "        if target[i] == 'A': num = 10\n",
    "        elif target[i] == 'B': num = 11\n",
    "        elif target[i] == 'C': num = 12\n",
    "        elif target[i] == 'D': num = 13\n",
    "        elif target[i] == 'E': num = 14\n",
    "        elif target[i] == 'F': num = 15\n",
    "        else: num = int(target[i])\n",
    "        \n",
    "        sum += (base ** digit) * num\n",
    "        digit -= 1\n",
    "    \n",
    "    return sum\n",
    "\n",
    "any2dec('1F', 16)"
   ]
  },
  {
   "cell_type": "code",
   "execution_count": 12,
   "metadata": {
    "scrolled": true
   },
   "outputs": [
    {
     "data": {
      "text/plain": [
       "'0b10110'"
      ]
     },
     "execution_count": 12,
     "metadata": {},
     "output_type": "execute_result"
    }
   ],
   "source": [
    "bin(-10 & 0x1F)"
   ]
  },
  {
   "cell_type": "code",
   "execution_count": 17,
   "metadata": {},
   "outputs": [
    {
     "data": {
      "text/plain": [
       "([1, 0, 1, 0], [1, 0, 1])"
      ]
     },
     "execution_count": 17,
     "metadata": {},
     "output_type": "execute_result"
    }
   ],
   "source": [
    "def dec2bin_ex(target):\n",
    "    integer = int(target);\n",
    "    u_dec_point = target - integer\n",
    "    \n",
    "    integers = []\n",
    "    \n",
    "    while integer != 0:\n",
    "        integers.append(integer % 2)\n",
    "        integer = integer // 2\n",
    "        \n",
    "    integers.reverse()\n",
    "    \n",
    "    u_decs = []\n",
    "    loop_count = 0\n",
    "    \n",
    "    while u_dec_point != 0:\n",
    "        temp = u_dec_point * 2\n",
    "        u_decs.append(int(temp))\n",
    "        u_dec_point = temp - (int(temp))\n",
    "        loop_count += 1\n",
    "        if loop_count >= 10:\n",
    "            break\n",
    "    \n",
    "    return integers, u_decs\n",
    "\n",
    "dec2bin_ex(10.625)"
   ]
  },
  {
   "cell_type": "code",
   "execution_count": null,
   "metadata": {},
   "outputs": [],
   "source": []
  }
 ],
 "metadata": {
  "kernelspec": {
   "display_name": "Python 3",
   "language": "python",
   "name": "python3"
  }
 },
 "nbformat": 4,
 "nbformat_minor": 2
}
